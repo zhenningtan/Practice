{
 "cells": [
  {
   "cell_type": "markdown",
   "metadata": {},
   "source": [
    "## 8/26/2016 This is a practice to use machine learning to predict admission using a dataset (http://www.ats.ucla.edu/stat/data/binary.csv)"
   ]
  },
  {
   "cell_type": "code",
   "execution_count": 1,
   "metadata": {
    "collapsed": false
   },
   "outputs": [],
   "source": [
    "import pandas as pd\n",
    "import numpy as np\n",
    "import matplotlib.pyplot as plt\n",
    "%matplotlib inline\n",
    "import time\n",
    "\n",
    "pd.set_option('display.max_colwidth', -1)"
   ]
  },
  {
   "cell_type": "code",
   "execution_count": 2,
   "metadata": {
    "collapsed": false
   },
   "outputs": [
    {
     "name": "stdout",
     "output_type": "stream",
     "text": [
      "C:\\Users\\Zhenning\\Documents\\Code\\practice\n"
     ]
    }
   ],
   "source": [
    "cd \"C:\\Users\\Zhenning\\Documents\\Code\\practice\""
   ]
  },
  {
   "cell_type": "code",
   "execution_count": 3,
   "metadata": {
    "collapsed": true
   },
   "outputs": [],
   "source": [
    "df = pd.read_csv(\"binary.csv\")  # this dataset can be feteched from \"http://www.ats.ucla.edu/stat/data/binary.csv\""
   ]
  },
  {
   "cell_type": "code",
   "execution_count": 4,
   "metadata": {
    "collapsed": false
   },
   "outputs": [
    {
     "data": {
      "text/html": [
       "<div>\n",
       "<table border=\"1\" class=\"dataframe\">\n",
       "  <thead>\n",
       "    <tr style=\"text-align: right;\">\n",
       "      <th></th>\n",
       "      <th>admit</th>\n",
       "      <th>gre</th>\n",
       "      <th>gpa</th>\n",
       "      <th>rank</th>\n",
       "    </tr>\n",
       "  </thead>\n",
       "  <tbody>\n",
       "    <tr>\n",
       "      <th>0</th>\n",
       "      <td>0</td>\n",
       "      <td>380</td>\n",
       "      <td>3.61</td>\n",
       "      <td>3</td>\n",
       "    </tr>\n",
       "    <tr>\n",
       "      <th>1</th>\n",
       "      <td>1</td>\n",
       "      <td>660</td>\n",
       "      <td>3.67</td>\n",
       "      <td>3</td>\n",
       "    </tr>\n",
       "    <tr>\n",
       "      <th>2</th>\n",
       "      <td>1</td>\n",
       "      <td>800</td>\n",
       "      <td>4.00</td>\n",
       "      <td>1</td>\n",
       "    </tr>\n",
       "    <tr>\n",
       "      <th>3</th>\n",
       "      <td>1</td>\n",
       "      <td>640</td>\n",
       "      <td>3.19</td>\n",
       "      <td>4</td>\n",
       "    </tr>\n",
       "    <tr>\n",
       "      <th>4</th>\n",
       "      <td>0</td>\n",
       "      <td>520</td>\n",
       "      <td>2.93</td>\n",
       "      <td>4</td>\n",
       "    </tr>\n",
       "  </tbody>\n",
       "</table>\n",
       "</div>"
      ],
      "text/plain": [
       "   admit  gre   gpa  rank\n",
       "0  0      380  3.61  3   \n",
       "1  1      660  3.67  3   \n",
       "2  1      800  4.00  1   \n",
       "3  1      640  3.19  4   \n",
       "4  0      520  2.93  4   "
      ]
     },
     "execution_count": 4,
     "metadata": {},
     "output_type": "execute_result"
    }
   ],
   "source": [
    "df.head()"
   ]
  },
  {
   "cell_type": "code",
   "execution_count": 5,
   "metadata": {
    "collapsed": false
   },
   "outputs": [
    {
     "name": "stdout",
     "output_type": "stream",
     "text": [
      "<class 'pandas.core.frame.DataFrame'>\n",
      "Int64Index: 400 entries, 0 to 399\n",
      "Data columns (total 4 columns):\n",
      "admit    400 non-null int64\n",
      "gre      400 non-null int64\n",
      "gpa      400 non-null float64\n",
      "rank     400 non-null int64\n",
      "dtypes: float64(1), int64(3)\n",
      "memory usage: 15.6 KB\n"
     ]
    }
   ],
   "source": [
    "df.info()"
   ]
  },
  {
   "cell_type": "code",
   "execution_count": 6,
   "metadata": {
    "collapsed": false
   },
   "outputs": [
    {
     "data": {
      "text/html": [
       "<div>\n",
       "<table border=\"1\" class=\"dataframe\">\n",
       "  <thead>\n",
       "    <tr style=\"text-align: right;\">\n",
       "      <th></th>\n",
       "      <th>admit</th>\n",
       "      <th>gre</th>\n",
       "      <th>gpa</th>\n",
       "      <th>rank</th>\n",
       "    </tr>\n",
       "  </thead>\n",
       "  <tbody>\n",
       "    <tr>\n",
       "      <th>count</th>\n",
       "      <td>400.000000</td>\n",
       "      <td>400.000000</td>\n",
       "      <td>400.000000</td>\n",
       "      <td>400.00000</td>\n",
       "    </tr>\n",
       "    <tr>\n",
       "      <th>mean</th>\n",
       "      <td>0.317500</td>\n",
       "      <td>587.700000</td>\n",
       "      <td>3.389900</td>\n",
       "      <td>2.48500</td>\n",
       "    </tr>\n",
       "    <tr>\n",
       "      <th>std</th>\n",
       "      <td>0.466087</td>\n",
       "      <td>115.516536</td>\n",
       "      <td>0.380567</td>\n",
       "      <td>0.94446</td>\n",
       "    </tr>\n",
       "    <tr>\n",
       "      <th>min</th>\n",
       "      <td>0.000000</td>\n",
       "      <td>220.000000</td>\n",
       "      <td>2.260000</td>\n",
       "      <td>1.00000</td>\n",
       "    </tr>\n",
       "    <tr>\n",
       "      <th>25%</th>\n",
       "      <td>0.000000</td>\n",
       "      <td>520.000000</td>\n",
       "      <td>3.130000</td>\n",
       "      <td>2.00000</td>\n",
       "    </tr>\n",
       "    <tr>\n",
       "      <th>50%</th>\n",
       "      <td>0.000000</td>\n",
       "      <td>580.000000</td>\n",
       "      <td>3.395000</td>\n",
       "      <td>2.00000</td>\n",
       "    </tr>\n",
       "    <tr>\n",
       "      <th>75%</th>\n",
       "      <td>1.000000</td>\n",
       "      <td>660.000000</td>\n",
       "      <td>3.670000</td>\n",
       "      <td>3.00000</td>\n",
       "    </tr>\n",
       "    <tr>\n",
       "      <th>max</th>\n",
       "      <td>1.000000</td>\n",
       "      <td>800.000000</td>\n",
       "      <td>4.000000</td>\n",
       "      <td>4.00000</td>\n",
       "    </tr>\n",
       "  </tbody>\n",
       "</table>\n",
       "</div>"
      ],
      "text/plain": [
       "            admit         gre         gpa       rank\n",
       "count  400.000000  400.000000  400.000000  400.00000\n",
       "mean   0.317500    587.700000  3.389900    2.48500  \n",
       "std    0.466087    115.516536  0.380567    0.94446  \n",
       "min    0.000000    220.000000  2.260000    1.00000  \n",
       "25%    0.000000    520.000000  3.130000    2.00000  \n",
       "50%    0.000000    580.000000  3.395000    2.00000  \n",
       "75%    1.000000    660.000000  3.670000    3.00000  \n",
       "max    1.000000    800.000000  4.000000    4.00000  "
      ]
     },
     "execution_count": 6,
     "metadata": {},
     "output_type": "execute_result"
    }
   ],
   "source": [
    "df.describe()"
   ]
  },
  {
   "cell_type": "code",
   "execution_count": 7,
   "metadata": {
    "collapsed": false
   },
   "outputs": [
    {
     "data": {
      "text/plain": [
       "(400, 4)"
      ]
     },
     "execution_count": 7,
     "metadata": {},
     "output_type": "execute_result"
    }
   ],
   "source": [
    "df.shape"
   ]
  },
  {
   "cell_type": "code",
   "execution_count": 8,
   "metadata": {
    "collapsed": false
   },
   "outputs": [
    {
     "data": {
      "text/html": [
       "<div>\n",
       "<table border=\"1\" class=\"dataframe\">\n",
       "  <thead>\n",
       "    <tr style=\"text-align: right;\">\n",
       "      <th></th>\n",
       "      <th>admit</th>\n",
       "      <th>gre</th>\n",
       "      <th>gpa</th>\n",
       "      <th>reputation</th>\n",
       "    </tr>\n",
       "  </thead>\n",
       "  <tbody>\n",
       "    <tr>\n",
       "      <th>0</th>\n",
       "      <td>0</td>\n",
       "      <td>380</td>\n",
       "      <td>3.61</td>\n",
       "      <td>3</td>\n",
       "    </tr>\n",
       "    <tr>\n",
       "      <th>1</th>\n",
       "      <td>1</td>\n",
       "      <td>660</td>\n",
       "      <td>3.67</td>\n",
       "      <td>3</td>\n",
       "    </tr>\n",
       "    <tr>\n",
       "      <th>2</th>\n",
       "      <td>1</td>\n",
       "      <td>800</td>\n",
       "      <td>4.00</td>\n",
       "      <td>1</td>\n",
       "    </tr>\n",
       "    <tr>\n",
       "      <th>3</th>\n",
       "      <td>1</td>\n",
       "      <td>640</td>\n",
       "      <td>3.19</td>\n",
       "      <td>4</td>\n",
       "    </tr>\n",
       "    <tr>\n",
       "      <th>4</th>\n",
       "      <td>0</td>\n",
       "      <td>520</td>\n",
       "      <td>2.93</td>\n",
       "      <td>4</td>\n",
       "    </tr>\n",
       "  </tbody>\n",
       "</table>\n",
       "</div>"
      ],
      "text/plain": [
       "   admit  gre   gpa  reputation\n",
       "0  0      380  3.61  3         \n",
       "1  1      660  3.67  3         \n",
       "2  1      800  4.00  1         \n",
       "3  1      640  3.19  4         \n",
       "4  0      520  2.93  4         "
      ]
     },
     "execution_count": 8,
     "metadata": {},
     "output_type": "execute_result"
    }
   ],
   "source": [
    "# rename \"rank\" column to avoid a confliction with a dataframe method rank\n",
    "col_names = [\"admit\", \"gre\", \"gpa\", \"reputation\"]\n",
    "df.columns = col_names\n",
    "df.head()"
   ]
  },
  {
   "cell_type": "markdown",
   "metadata": {},
   "source": [
    "## Dataset summary and look at data"
   ]
  },
  {
   "cell_type": "code",
   "execution_count": 9,
   "metadata": {
    "collapsed": false
   },
   "outputs": [
    {
     "data": {
      "text/plain": [
       "array([[<matplotlib.axes._subplots.AxesSubplot object at 0x000000000920EAC8>,\n",
       "        <matplotlib.axes._subplots.AxesSubplot object at 0x00000000092B9748>],\n",
       "       [<matplotlib.axes._subplots.AxesSubplot object at 0x00000000091A66A0>,\n",
       "        <matplotlib.axes._subplots.AxesSubplot object at 0x0000000009406C18>]], dtype=object)"
      ]
     },
     "execution_count": 9,
     "metadata": {},
     "output_type": "execute_result"
    },
    {
     "data": {
      "image/png": "[encoded data removed]",
      "text/plain": [
       "<matplotlib.figure.Figure at 0x920e278>"
      ]
     },
     "metadata": {},
     "output_type": "display_data"
    }
   ],
   "source": [
    "# plot each feature \n",
    "df.hist(figsize = (10, 10))"
   ]
  },
  {
   "cell_type": "markdown",
   "metadata": {},
   "source": [
    "### The admission column, which is our label for data point, has uneven number of two groups. For machine learning, it may be worhtwile to create stratified splits for cross validation instead of simple train and test set split. "
   ]
  },
  {
   "cell_type": "code",
   "execution_count": 10,
   "metadata": {
    "collapsed": false
   },
   "outputs": [],
   "source": [
    "# calculate the majority class prediction accuracy\n",
    "admit_group = df.groupby( \"admit\")"
   ]
  },
  {
   "cell_type": "code",
   "execution_count": 11,
   "metadata": {
    "collapsed": false
   },
   "outputs": [
    {
     "data": {
      "text/html": [
       "<div>\n",
       "<table border=\"1\" class=\"dataframe\">\n",
       "  <thead>\n",
       "    <tr style=\"text-align: right;\">\n",
       "      <th></th>\n",
       "      <th></th>\n",
       "      <th>gpa</th>\n",
       "      <th>gre</th>\n",
       "      <th>reputation</th>\n",
       "    </tr>\n",
       "    <tr>\n",
       "      <th>admit</th>\n",
       "      <th></th>\n",
       "      <th></th>\n",
       "      <th></th>\n",
       "      <th></th>\n",
       "    </tr>\n",
       "  </thead>\n",
       "  <tbody>\n",
       "    <tr>\n",
       "      <th rowspan=\"8\" valign=\"top\">0</th>\n",
       "      <th>count</th>\n",
       "      <td>273.000000</td>\n",
       "      <td>273.000000</td>\n",
       "      <td>273.000000</td>\n",
       "    </tr>\n",
       "    <tr>\n",
       "      <th>mean</th>\n",
       "      <td>3.343700</td>\n",
       "      <td>573.186813</td>\n",
       "      <td>2.641026</td>\n",
       "    </tr>\n",
       "    <tr>\n",
       "      <th>std</th>\n",
       "      <td>0.377133</td>\n",
       "      <td>115.830243</td>\n",
       "      <td>0.917198</td>\n",
       "    </tr>\n",
       "    <tr>\n",
       "      <th>min</th>\n",
       "      <td>2.260000</td>\n",
       "      <td>220.000000</td>\n",
       "      <td>1.000000</td>\n",
       "    </tr>\n",
       "    <tr>\n",
       "      <th>25%</th>\n",
       "      <td>3.080000</td>\n",
       "      <td>500.000000</td>\n",
       "      <td>2.000000</td>\n",
       "    </tr>\n",
       "    <tr>\n",
       "      <th>50%</th>\n",
       "      <td>3.340000</td>\n",
       "      <td>580.000000</td>\n",
       "      <td>3.000000</td>\n",
       "    </tr>\n",
       "    <tr>\n",
       "      <th>75%</th>\n",
       "      <td>3.610000</td>\n",
       "      <td>660.000000</td>\n",
       "      <td>3.000000</td>\n",
       "    </tr>\n",
       "    <tr>\n",
       "      <th>max</th>\n",
       "      <td>4.000000</td>\n",
       "      <td>800.000000</td>\n",
       "      <td>4.000000</td>\n",
       "    </tr>\n",
       "    <tr>\n",
       "      <th rowspan=\"8\" valign=\"top\">1</th>\n",
       "      <th>count</th>\n",
       "      <td>127.000000</td>\n",
       "      <td>127.000000</td>\n",
       "      <td>127.000000</td>\n",
       "    </tr>\n",
       "    <tr>\n",
       "      <th>mean</th>\n",
       "      <td>3.489213</td>\n",
       "      <td>618.897638</td>\n",
       "      <td>2.149606</td>\n",
       "    </tr>\n",
       "    <tr>\n",
       "      <th>std</th>\n",
       "      <td>0.370177</td>\n",
       "      <td>108.884884</td>\n",
       "      <td>0.917889</td>\n",
       "    </tr>\n",
       "    <tr>\n",
       "      <th>min</th>\n",
       "      <td>2.420000</td>\n",
       "      <td>300.000000</td>\n",
       "      <td>1.000000</td>\n",
       "    </tr>\n",
       "    <tr>\n",
       "      <th>25%</th>\n",
       "      <td>3.220000</td>\n",
       "      <td>540.000000</td>\n",
       "      <td>1.000000</td>\n",
       "    </tr>\n",
       "    <tr>\n",
       "      <th>50%</th>\n",
       "      <td>3.540000</td>\n",
       "      <td>620.000000</td>\n",
       "      <td>2.000000</td>\n",
       "    </tr>\n",
       "    <tr>\n",
       "      <th>75%</th>\n",
       "      <td>3.755000</td>\n",
       "      <td>680.000000</td>\n",
       "      <td>3.000000</td>\n",
       "    </tr>\n",
       "    <tr>\n",
       "      <th>max</th>\n",
       "      <td>4.000000</td>\n",
       "      <td>800.000000</td>\n",
       "      <td>4.000000</td>\n",
       "    </tr>\n",
       "  </tbody>\n",
       "</table>\n",
       "</div>"
      ],
      "text/plain": [
       "                    gpa         gre  reputation\n",
       "admit                                          \n",
       "0     count  273.000000  273.000000  273.000000\n",
       "      mean   3.343700    573.186813  2.641026  \n",
       "      std    0.377133    115.830243  0.917198  \n",
       "      min    2.260000    220.000000  1.000000  \n",
       "      25%    3.080000    500.000000  2.000000  \n",
       "      50%    3.340000    580.000000  3.000000  \n",
       "      75%    3.610000    660.000000  3.000000  \n",
       "      max    4.000000    800.000000  4.000000  \n",
       "1     count  127.000000  127.000000  127.000000\n",
       "      mean   3.489213    618.897638  2.149606  \n",
       "      std    0.370177    108.884884  0.917889  \n",
       "      min    2.420000    300.000000  1.000000  \n",
       "      25%    3.220000    540.000000  1.000000  \n",
       "      50%    3.540000    620.000000  2.000000  \n",
       "      75%    3.755000    680.000000  3.000000  \n",
       "      max    4.000000    800.000000  4.000000  "
      ]
     },
     "execution_count": 11,
     "metadata": {},
     "output_type": "execute_result"
    }
   ],
   "source": [
    "admit_group.describe()"
   ]
  },
  {
   "cell_type": "code",
   "execution_count": 12,
   "metadata": {
    "collapsed": false
   },
   "outputs": [
    {
     "name": "stdout",
     "output_type": "stream",
     "text": [
      "majority class prediction 0.465201465201\n"
     ]
    }
   ],
   "source": [
    "majority_class_pred = 127 /273.0\n",
    "print \"majority class prediction\", majority_class_pred"
   ]
  },
  {
   "cell_type": "code",
   "execution_count": 13,
   "metadata": {
    "collapsed": false
   },
   "outputs": [
    {
     "data": {
      "text/plain": [
       "admit\n",
       "0    [[Axes(0.125,0.563043;0.336957x0.336957), Axes(0.563043,0.563043;0.336957x0.336957)], [Axes(0.125,0.125;0.336957x0.336957), Axes(0.563043,0.125;0.336957x0.336957)]]\n",
       "1    [[Axes(0.125,0.563043;0.336957x0.336957), Axes(0.563043,0.563043;0.336957x0.336957)], [Axes(0.125,0.125;0.336957x0.336957), Axes(0.563043,0.125;0.336957x0.336957)]]\n",
       "dtype: object"
      ]
     },
     "execution_count": 13,
     "metadata": {},
     "output_type": "execute_result"
    },
    {
     "data": {
      "image/png": "[encoded data removed]",
      "text/plain": [
       "<matplotlib.figure.Figure at 0xa4e1278>"
      ]
     },
     "metadata": {},
     "output_type": "display_data"
    },
    {
     "data": {
      "image/png": "[encoded data removed]",
      "text/plain": [
       "<matplotlib.figure.Figure at 0xa9bef60>"
      ]
     },
     "metadata": {},
     "output_type": "display_data"
    }
   ],
   "source": [
    "df.groupby(\"admit\").hist(figsize = (10,10))"
   ]
  },
  {
   "cell_type": "markdown",
   "metadata": {},
   "source": [
    "## Feature engineering: dummy variables"
   ]
  },
  {
   "cell_type": "code",
   "execution_count": 14,
   "metadata": {
    "collapsed": true
   },
   "outputs": [],
   "source": [
    "dummy_rep = pd.get_dummies(df[\"reputation\"], prefix = \"reputation\")"
   ]
  },
  {
   "cell_type": "code",
   "execution_count": 15,
   "metadata": {
    "collapsed": false
   },
   "outputs": [
    {
     "data": {
      "text/html": [
       "<div>\n",
       "<table border=\"1\" class=\"dataframe\">\n",
       "  <thead>\n",
       "    <tr style=\"text-align: right;\">\n",
       "      <th></th>\n",
       "      <th>reputation_1</th>\n",
       "      <th>reputation_2</th>\n",
       "      <th>reputation_3</th>\n",
       "      <th>reputation_4</th>\n",
       "    </tr>\n",
       "  </thead>\n",
       "  <tbody>\n",
       "    <tr>\n",
       "      <th>0</th>\n",
       "      <td>0</td>\n",
       "      <td>0</td>\n",
       "      <td>1</td>\n",
       "      <td>0</td>\n",
       "    </tr>\n",
       "    <tr>\n",
       "      <th>1</th>\n",
       "      <td>0</td>\n",
       "      <td>0</td>\n",
       "      <td>1</td>\n",
       "      <td>0</td>\n",
       "    </tr>\n",
       "    <tr>\n",
       "      <th>2</th>\n",
       "      <td>1</td>\n",
       "      <td>0</td>\n",
       "      <td>0</td>\n",
       "      <td>0</td>\n",
       "    </tr>\n",
       "    <tr>\n",
       "      <th>3</th>\n",
       "      <td>0</td>\n",
       "      <td>0</td>\n",
       "      <td>0</td>\n",
       "      <td>1</td>\n",
       "    </tr>\n",
       "    <tr>\n",
       "      <th>4</th>\n",
       "      <td>0</td>\n",
       "      <td>0</td>\n",
       "      <td>0</td>\n",
       "      <td>1</td>\n",
       "    </tr>\n",
       "  </tbody>\n",
       "</table>\n",
       "</div>"
      ],
      "text/plain": [
       "   reputation_1  reputation_2  reputation_3  reputation_4\n",
       "0  0             0             1             0           \n",
       "1  0             0             1             0           \n",
       "2  1             0             0             0           \n",
       "3  0             0             0             1           \n",
       "4  0             0             0             1           "
      ]
     },
     "execution_count": 15,
     "metadata": {},
     "output_type": "execute_result"
    }
   ],
   "source": [
    "dummy_rep.head()"
   ]
  },
  {
   "cell_type": "code",
   "execution_count": 16,
   "metadata": {
    "collapsed": false
   },
   "outputs": [
    {
     "data": {
      "text/html": [
       "<div>\n",
       "<table border=\"1\" class=\"dataframe\">\n",
       "  <thead>\n",
       "    <tr style=\"text-align: right;\">\n",
       "      <th></th>\n",
       "      <th>admit</th>\n",
       "      <th>gre</th>\n",
       "      <th>gpa</th>\n",
       "      <th>reputation_1</th>\n",
       "      <th>reputation_2</th>\n",
       "      <th>reputation_3</th>\n",
       "      <th>reputation_4</th>\n",
       "    </tr>\n",
       "  </thead>\n",
       "  <tbody>\n",
       "    <tr>\n",
       "      <th>0</th>\n",
       "      <td>0</td>\n",
       "      <td>380</td>\n",
       "      <td>3.61</td>\n",
       "      <td>0</td>\n",
       "      <td>0</td>\n",
       "      <td>1</td>\n",
       "      <td>0</td>\n",
       "    </tr>\n",
       "    <tr>\n",
       "      <th>1</th>\n",
       "      <td>1</td>\n",
       "      <td>660</td>\n",
       "      <td>3.67</td>\n",
       "      <td>0</td>\n",
       "      <td>0</td>\n",
       "      <td>1</td>\n",
       "      <td>0</td>\n",
       "    </tr>\n",
       "    <tr>\n",
       "      <th>2</th>\n",
       "      <td>1</td>\n",
       "      <td>800</td>\n",
       "      <td>4.00</td>\n",
       "      <td>1</td>\n",
       "      <td>0</td>\n",
       "      <td>0</td>\n",
       "      <td>0</td>\n",
       "    </tr>\n",
       "    <tr>\n",
       "      <th>3</th>\n",
       "      <td>1</td>\n",
       "      <td>640</td>\n",
       "      <td>3.19</td>\n",
       "      <td>0</td>\n",
       "      <td>0</td>\n",
       "      <td>0</td>\n",
       "      <td>1</td>\n",
       "    </tr>\n",
       "    <tr>\n",
       "      <th>4</th>\n",
       "      <td>0</td>\n",
       "      <td>520</td>\n",
       "      <td>2.93</td>\n",
       "      <td>0</td>\n",
       "      <td>0</td>\n",
       "      <td>0</td>\n",
       "      <td>1</td>\n",
       "    </tr>\n",
       "  </tbody>\n",
       "</table>\n",
       "</div>"
      ],
      "text/plain": [
       "   admit  gre   gpa  reputation_1  reputation_2  reputation_3  reputation_4\n",
       "0  0      380  3.61  0             0             1             0           \n",
       "1  1      660  3.67  0             0             1             0           \n",
       "2  1      800  4.00  1             0             0             0           \n",
       "3  1      640  3.19  0             0             0             1           \n",
       "4  0      520  2.93  0             0             0             1           "
      ]
     },
     "execution_count": 16,
     "metadata": {},
     "output_type": "execute_result"
    }
   ],
   "source": [
    "df = df.drop('reputation', axis = 1)  # drop the original reputation column\n",
    "df = df.join(dummy_rep)\n",
    "df.head()"
   ]
  },
  {
   "cell_type": "markdown",
   "metadata": {},
   "source": [
    "### Create a new variable \"gre_gpa\", which is to multiply gre with gpa. Because both factors are important in determining the admission, it's possible that the multiplication of two will give better prediction on admission."
   ]
  },
  {
   "cell_type": "code",
   "execution_count": 17,
   "metadata": {
    "collapsed": true
   },
   "outputs": [],
   "source": [
    "df[\"gre_gpa\"] = df['gre'] * df ['gpa']"
   ]
  },
  {
   "cell_type": "code",
   "execution_count": 18,
   "metadata": {
    "collapsed": false
   },
   "outputs": [
    {
     "data": {
      "text/html": [
       "<div>\n",
       "<table border=\"1\" class=\"dataframe\">\n",
       "  <thead>\n",
       "    <tr style=\"text-align: right;\">\n",
       "      <th></th>\n",
       "      <th>admit</th>\n",
       "      <th>gre</th>\n",
       "      <th>gpa</th>\n",
       "      <th>reputation_1</th>\n",
       "      <th>reputation_2</th>\n",
       "      <th>reputation_3</th>\n",
       "      <th>reputation_4</th>\n",
       "      <th>gre_gpa</th>\n",
       "    </tr>\n",
       "  </thead>\n",
       "  <tbody>\n",
       "    <tr>\n",
       "      <th>0</th>\n",
       "      <td>0</td>\n",
       "      <td>380</td>\n",
       "      <td>3.61</td>\n",
       "      <td>0</td>\n",
       "      <td>0</td>\n",
       "      <td>1</td>\n",
       "      <td>0</td>\n",
       "      <td>1371.8</td>\n",
       "    </tr>\n",
       "    <tr>\n",
       "      <th>1</th>\n",
       "      <td>1</td>\n",
       "      <td>660</td>\n",
       "      <td>3.67</td>\n",
       "      <td>0</td>\n",
       "      <td>0</td>\n",
       "      <td>1</td>\n",
       "      <td>0</td>\n",
       "      <td>2422.2</td>\n",
       "    </tr>\n",
       "    <tr>\n",
       "      <th>2</th>\n",
       "      <td>1</td>\n",
       "      <td>800</td>\n",
       "      <td>4.00</td>\n",
       "      <td>1</td>\n",
       "      <td>0</td>\n",
       "      <td>0</td>\n",
       "      <td>0</td>\n",
       "      <td>3200.0</td>\n",
       "    </tr>\n",
       "    <tr>\n",
       "      <th>3</th>\n",
       "      <td>1</td>\n",
       "      <td>640</td>\n",
       "      <td>3.19</td>\n",
       "      <td>0</td>\n",
       "      <td>0</td>\n",
       "      <td>0</td>\n",
       "      <td>1</td>\n",
       "      <td>2041.6</td>\n",
       "    </tr>\n",
       "    <tr>\n",
       "      <th>4</th>\n",
       "      <td>0</td>\n",
       "      <td>520</td>\n",
       "      <td>2.93</td>\n",
       "      <td>0</td>\n",
       "      <td>0</td>\n",
       "      <td>0</td>\n",
       "      <td>1</td>\n",
       "      <td>1523.6</td>\n",
       "    </tr>\n",
       "  </tbody>\n",
       "</table>\n",
       "</div>"
      ],
      "text/plain": [
       "   admit  gre   gpa  reputation_1  reputation_2  reputation_3  reputation_4  \\\n",
       "0  0      380  3.61  0             0             1             0              \n",
       "1  1      660  3.67  0             0             1             0              \n",
       "2  1      800  4.00  1             0             0             0              \n",
       "3  1      640  3.19  0             0             0             1              \n",
       "4  0      520  2.93  0             0             0             1              \n",
       "\n",
       "   gre_gpa  \n",
       "0  1371.8   \n",
       "1  2422.2   \n",
       "2  3200.0   \n",
       "3  2041.6   \n",
       "4  1523.6   "
      ]
     },
     "execution_count": 18,
     "metadata": {},
     "output_type": "execute_result"
    }
   ],
   "source": [
    "df.head()"
   ]
  },
  {
   "cell_type": "markdown",
   "metadata": {},
   "source": [
    "## Split dataset for training model"
   ]
  },
  {
   "cell_type": "code",
   "execution_count": 19,
   "metadata": {
    "collapsed": true
   },
   "outputs": [],
   "source": [
    "from sklearn.cross_validation import StratifiedShuffleSplit\n",
    "from sklearn.cross_validation import train_test_split\n",
    "\n",
    "from sklearn.preprocessing import MinMaxScaler"
   ]
  },
  {
   "cell_type": "code",
   "execution_count": 20,
   "metadata": {
    "collapsed": false
   },
   "outputs": [],
   "source": [
    "X = df[[\"gre\", \"gpa\", \"gre_gpa\", \"reputation_1\", \"reputation_2\", \"reputation_3\", \"reputation_4\"]]\n",
    "y = df[\"admit\"]"
   ]
  },
  {
   "cell_type": "code",
   "execution_count": 34,
   "metadata": {
    "collapsed": false
   },
   "outputs": [],
   "source": [
    "sss = StratifiedShuffleSplit(y, n_iter = 100, test_size = 0.1, random_state = 0)"
   ]
  },
  {
   "cell_type": "code",
   "execution_count": 22,
   "metadata": {
    "collapsed": true
   },
   "outputs": [],
   "source": [
    "# another way is to create simple train, test set split. However, this split may have issue due to unbalanced labels in two groups\n",
    "# I will create a simple train, test set for now and compare training results with sss later\n",
    "X_train, X_test = train_test_split(X, test_size = 0.3, random_state = 0)\n",
    "y_train, y_test = train_test_split(y, test_size = 0.3, random_state =0)"
   ]
  },
  {
   "cell_type": "markdown",
   "metadata": {},
   "source": [
    "### Scale data between 0 and 1"
   ]
  },
  {
   "cell_type": "code",
   "execution_count": 23,
   "metadata": {
    "collapsed": false
   },
   "outputs": [],
   "source": [
    "mms = MinMaxScaler()\n",
    "mms.fit(X)\n",
    "X = mms.transform(X)\n"
   ]
  },
  {
   "cell_type": "markdown",
   "metadata": {},
   "source": [
    "### Create a helper function to store algorithm performance "
   ]
  },
  {
   "cell_type": "code",
   "execution_count": 24,
   "metadata": {
    "collapsed": true
   },
   "outputs": [],
   "source": [
    "from sklearn import metrics"
   ]
  },
  {
   "cell_type": "code",
   "execution_count": 25,
   "metadata": {
    "collapsed": false
   },
   "outputs": [],
   "source": [
    "result_table = []\n",
    "def predict_score(clf, features, labels, folds = 1000):\n",
    "    \n",
    "    cv = StratifiedShuffleSplit(labels, folds, random_state = 42)\n",
    "    \n",
    "    true_negatives = 0\n",
    "    false_negatives = 0\n",
    "    true_positives = 0\n",
    "    false_positives = 0\n",
    "    for train_idx, test_idx in cv: \n",
    "        features_train = []\n",
    "        features_test  = []\n",
    "        labels_train   = []\n",
    "        labels_test    = []\n",
    "        for ii in train_idx:\n",
    "            features_train.append( features[ii] )\n",
    "            labels_train.append( labels[ii] )\n",
    "        for jj in test_idx:\n",
    "            features_test.append( features[jj] )\n",
    "            labels_test.append( labels[jj] )\n",
    "        \n",
    "        ### fit the classifier using training set, and test on test set\n",
    "        clf.fit(features_train, labels_train)\n",
    "        predictions = clf.predict(features_test)\n",
    "        for prediction, truth in zip(predictions, labels_test):\n",
    "            if prediction == 0 and truth == 0:\n",
    "                true_negatives += 1\n",
    "            elif prediction == 0 and truth == 1:\n",
    "                false_negatives += 1\n",
    "            elif prediction == 1 and truth == 0:\n",
    "                false_positives += 1\n",
    "            elif prediction == 1 and truth == 1:\n",
    "                true_positives += 1\n",
    "            else:\n",
    "                print \"Warning: Found a predicted label not == 0 or 1.\"\n",
    "                print \"All predictions should take value 0 or 1.\"\n",
    "                print \"Evaluating performance for processed predictions:\"\n",
    "                break\n",
    "    try:\n",
    "        total_predictions = true_negatives + false_negatives + false_positives + true_positives\n",
    "        accuracy = 1.0*(true_positives + true_negatives)/total_predictions\n",
    "        precision = 1.0*true_positives/(true_positives+false_positives)\n",
    "        recall = 1.0*true_positives/(true_positives+false_negatives)\n",
    "        f1 = 2.0 * true_positives/(2*true_positives + false_positives+false_negatives)\n",
    "        f2 = (1+2.0*2.0) * precision*recall/(4*precision + recall)\n",
    "    \n",
    "        #store the scores in a list and convert it to a dataframe\n",
    "        result = [str(clf), \"{0:.4f}\".format(precision), \"{0:.4f}\".format(recall), \"{0:.4f}\".format(accuracy),\n",
    "              \"{0:.4f}\".format(f1),  \"{0:.4f}\".format(f2)]\n",
    "        if result not in result_table:\n",
    "            result_table.append(result)\n",
    "            \n",
    "        result_df = pd.DataFrame(result_table, columns =[\"Classifier\", \"Precision\", \"Recall\", \"Accuracy\", \"F1\", \"F2\"])\n",
    "        return result_df\n",
    "    \n",
    "    except:\n",
    "        print \"Got a divide by zero when trying out:\", clf\n",
    "        print \"Precision or recall may be undefined due to a lack of true positive predicitons.\""
   ]
  },
  {
   "cell_type": "markdown",
   "metadata": {},
   "source": [
    "## Test a few machine learning algorithms"
   ]
  },
  {
   "cell_type": "code",
   "execution_count": 26,
   "metadata": {
    "collapsed": false
   },
   "outputs": [],
   "source": [
    "from sklearn.linear_model import LogisticRegression\n",
    "from sklearn.naive_bayes import GaussianNB\n",
    "from sklearn.tree import DecisionTreeClassifier\n",
    "from sklearn.ensemble import AdaBoostClassifier\n",
    "from sklearn.ensemble import RandomForestClassifier\n",
    "from sklearn.neighbors import KNeighborsClassifier\n",
    "\n",
    "from sklearn.grid_search import GridSearchCV\n"
   ]
  },
  {
   "cell_type": "markdown",
   "metadata": {},
   "source": [
    "### 1. Logistic regression"
   ]
  },
  {
   "cell_type": "code",
   "execution_count": 35,
   "metadata": {
    "collapsed": false
   },
   "outputs": [
    {
     "name": "stdout",
     "output_type": "stream",
     "text": [
      "Best logistic regression: LogisticRegression(C=60, class_weight=None, dual=False, fit_intercept=True,\n",
      "          intercept_scaling=1, max_iter=100, multi_class='ovr',\n",
      "          penalty='l2', random_state=None, solver='liblinear', tol=0.0001,\n",
      "          verbose=0)\n"
     ]
    }
   ],
   "source": [
    "params = { \"C\":  [0.1, 1, 10, 20, 30, 40, 50, 60,70,  80, 100]}\n",
    "log_clf = LogisticRegression()\n",
    "\n",
    "gs_clf = GridSearchCV(log_clf, param_grid = params, scoring = \"f1\", cv = sss)\n",
    "gs_clf.fit(X, y)\n",
    "\n",
    "log_clf = gs_clf.best_estimator_\n",
    "print \"Best logistic regression:\", log_clf"
   ]
  },
  {
   "cell_type": "code",
   "execution_count": 36,
   "metadata": {
    "collapsed": false
   },
   "outputs": [
    {
     "data": {
      "text/html": [
       "<div>\n",
       "<table border=\"1\" class=\"dataframe\">\n",
       "  <thead>\n",
       "    <tr style=\"text-align: right;\">\n",
       "      <th></th>\n",
       "      <th>Classifier</th>\n",
       "      <th>Precision</th>\n",
       "      <th>Recall</th>\n",
       "      <th>Accuracy</th>\n",
       "      <th>F1</th>\n",
       "      <th>F2</th>\n",
       "    </tr>\n",
       "  </thead>\n",
       "  <tbody>\n",
       "    <tr>\n",
       "      <th>0</th>\n",
       "      <td>LogisticRegression(C=40, class_weight=None, dual=False, fit_intercept=True,\\n          intercept_scaling=1, max_iter=100, multi_class='ovr',\\n          penalty='l2', random_state=None, solver='liblinear', tol=0.0001,\\n          verbose=0)</td>\n",
       "      <td>0.5942</td>\n",
       "      <td>0.2298</td>\n",
       "      <td>0.6987</td>\n",
       "      <td>0.3315</td>\n",
       "      <td>0.2620</td>\n",
       "    </tr>\n",
       "    <tr>\n",
       "      <th>1</th>\n",
       "      <td>GaussianNB()</td>\n",
       "      <td>0.5001</td>\n",
       "      <td>0.4575</td>\n",
       "      <td>0.6751</td>\n",
       "      <td>0.4779</td>\n",
       "      <td>0.4655</td>\n",
       "    </tr>\n",
       "    <tr>\n",
       "      <th>2</th>\n",
       "      <td>DecisionTreeClassifier(class_weight=None, criterion='gini', max_depth=20,\\n            max_features=None, max_leaf_nodes=None, min_samples_leaf=1,\\n            min_samples_split=2, min_weight_fraction_leaf=0.0,\\n            random_state=0, splitter='best')</td>\n",
       "      <td>0.3951</td>\n",
       "      <td>0.3872</td>\n",
       "      <td>0.6082</td>\n",
       "      <td>0.3911</td>\n",
       "      <td>0.3888</td>\n",
       "    </tr>\n",
       "    <tr>\n",
       "      <th>3</th>\n",
       "      <td>LogisticRegression(C=60, class_weight=None, dual=False, fit_intercept=True,\\n          intercept_scaling=1, max_iter=100, multi_class='ovr',\\n          penalty='l2', random_state=None, solver='liblinear', tol=0.0001,\\n          verbose=0)</td>\n",
       "      <td>0.5956</td>\n",
       "      <td>0.2295</td>\n",
       "      <td>0.6989</td>\n",
       "      <td>0.3314</td>\n",
       "      <td>0.2617</td>\n",
       "    </tr>\n",
       "  </tbody>\n",
       "</table>\n",
       "</div>"
      ],
      "text/plain": [
       "                                                                                                                                                                                                                                                         Classifier  \\\n",
       "0  LogisticRegression(C=40, class_weight=None, dual=False, fit_intercept=True,\\n          intercept_scaling=1, max_iter=100, multi_class='ovr',\\n          penalty='l2', random_state=None, solver='liblinear', tol=0.0001,\\n          verbose=0)                     \n",
       "1  GaussianNB()                                                                                                                                                                                                                                                       \n",
       "2  DecisionTreeClassifier(class_weight=None, criterion='gini', max_depth=20,\\n            max_features=None, max_leaf_nodes=None, min_samples_leaf=1,\\n            min_samples_split=2, min_weight_fraction_leaf=0.0,\\n            random_state=0, splitter='best')   \n",
       "3  LogisticRegression(C=60, class_weight=None, dual=False, fit_intercept=True,\\n          intercept_scaling=1, max_iter=100, multi_class='ovr',\\n          penalty='l2', random_state=None, solver='liblinear', tol=0.0001,\\n          verbose=0)                     \n",
       "\n",
       "  Precision  Recall Accuracy      F1      F2  \n",
       "0  0.5942    0.2298  0.6987   0.3315  0.2620  \n",
       "1  0.5001    0.4575  0.6751   0.4779  0.4655  \n",
       "2  0.3951    0.3872  0.6082   0.3911  0.3888  \n",
       "3  0.5956    0.2295  0.6989   0.3314  0.2617  "
      ]
     },
     "execution_count": 36,
     "metadata": {},
     "output_type": "execute_result"
    }
   ],
   "source": [
    "predict_score(log_clf, X, y)"
   ]
  },
  {
   "cell_type": "code",
   "execution_count": 37,
   "metadata": {
    "collapsed": false
   },
   "outputs": [
    {
     "name": "stdout",
     "output_type": "stream",
     "text": [
      "coefficients: [[ 3.9217302   2.86990444 -3.52210482  0.2555462  -0.52825422 -1.16272621\n",
      "  -1.17522979]]\n"
     ]
    }
   ],
   "source": [
    "print \"coefficients:\", log_clf.coef_ # it is strange that gre_gpa varialbe has negative effect on admission"
   ]
  },
  {
   "cell_type": "markdown",
   "metadata": {},
   "source": [
    "### 2. Naive Bayes "
   ]
  },
  {
   "cell_type": "code",
   "execution_count": 38,
   "metadata": {
    "collapsed": false
   },
   "outputs": [
    {
     "data": {
      "text/html": [
       "<div>\n",
       "<table border=\"1\" class=\"dataframe\">\n",
       "  <thead>\n",
       "    <tr style=\"text-align: right;\">\n",
       "      <th></th>\n",
       "      <th>Classifier</th>\n",
       "      <th>Precision</th>\n",
       "      <th>Recall</th>\n",
       "      <th>Accuracy</th>\n",
       "      <th>F1</th>\n",
       "      <th>F2</th>\n",
       "    </tr>\n",
       "  </thead>\n",
       "  <tbody>\n",
       "    <tr>\n",
       "      <th>0</th>\n",
       "      <td>LogisticRegression(C=40, class_weight=None, dual=False, fit_intercept=True,\\n          intercept_scaling=1, max_iter=100, multi_class='ovr',\\n          penalty='l2', random_state=None, solver='liblinear', tol=0.0001,\\n          verbose=0)</td>\n",
       "      <td>0.5942</td>\n",
       "      <td>0.2298</td>\n",
       "      <td>0.6987</td>\n",
       "      <td>0.3315</td>\n",
       "      <td>0.2620</td>\n",
       "    </tr>\n",
       "    <tr>\n",
       "      <th>1</th>\n",
       "      <td>GaussianNB()</td>\n",
       "      <td>0.5001</td>\n",
       "      <td>0.4575</td>\n",
       "      <td>0.6751</td>\n",
       "      <td>0.4779</td>\n",
       "      <td>0.4655</td>\n",
       "    </tr>\n",
       "    <tr>\n",
       "      <th>2</th>\n",
       "      <td>DecisionTreeClassifier(class_weight=None, criterion='gini', max_depth=20,\\n            max_features=None, max_leaf_nodes=None, min_samples_leaf=1,\\n            min_samples_split=2, min_weight_fraction_leaf=0.0,\\n            random_state=0, splitter='best')</td>\n",
       "      <td>0.3951</td>\n",
       "      <td>0.3872</td>\n",
       "      <td>0.6082</td>\n",
       "      <td>0.3911</td>\n",
       "      <td>0.3888</td>\n",
       "    </tr>\n",
       "    <tr>\n",
       "      <th>3</th>\n",
       "      <td>LogisticRegression(C=60, class_weight=None, dual=False, fit_intercept=True,\\n          intercept_scaling=1, max_iter=100, multi_class='ovr',\\n          penalty='l2', random_state=None, solver='liblinear', tol=0.0001,\\n          verbose=0)</td>\n",
       "      <td>0.5956</td>\n",
       "      <td>0.2295</td>\n",
       "      <td>0.6989</td>\n",
       "      <td>0.3314</td>\n",
       "      <td>0.2617</td>\n",
       "    </tr>\n",
       "  </tbody>\n",
       "</table>\n",
       "</div>"
      ],
      "text/plain": [
       "                                                                                                                                                                                                                                                         Classifier  \\\n",
       "0  LogisticRegression(C=40, class_weight=None, dual=False, fit_intercept=True,\\n          intercept_scaling=1, max_iter=100, multi_class='ovr',\\n          penalty='l2', random_state=None, solver='liblinear', tol=0.0001,\\n          verbose=0)                     \n",
       "1  GaussianNB()                                                                                                                                                                                                                                                       \n",
       "2  DecisionTreeClassifier(class_weight=None, criterion='gini', max_depth=20,\\n            max_features=None, max_leaf_nodes=None, min_samples_leaf=1,\\n            min_samples_split=2, min_weight_fraction_leaf=0.0,\\n            random_state=0, splitter='best')   \n",
       "3  LogisticRegression(C=60, class_weight=None, dual=False, fit_intercept=True,\\n          intercept_scaling=1, max_iter=100, multi_class='ovr',\\n          penalty='l2', random_state=None, solver='liblinear', tol=0.0001,\\n          verbose=0)                     \n",
       "\n",
       "  Precision  Recall Accuracy      F1      F2  \n",
       "0  0.5942    0.2298  0.6987   0.3315  0.2620  \n",
       "1  0.5001    0.4575  0.6751   0.4779  0.4655  \n",
       "2  0.3951    0.3872  0.6082   0.3911  0.3888  \n",
       "3  0.5956    0.2295  0.6989   0.3314  0.2617  "
      ]
     },
     "execution_count": 38,
     "metadata": {},
     "output_type": "execute_result"
    }
   ],
   "source": [
    "nb_clf = GaussianNB()\n",
    "nb_clf.fit(X_train, y_train)\n",
    "\n",
    "predict_score(nb_clf, X, y)"
   ]
  },
  {
   "cell_type": "markdown",
   "metadata": {},
   "source": [
    "### 3. Decision tree"
   ]
  },
  {
   "cell_type": "code",
   "execution_count": 42,
   "metadata": {
    "collapsed": false
   },
   "outputs": [
    {
     "name": "stdout",
     "output_type": "stream",
     "text": [
      "Best found classifier: DecisionTreeClassifier(class_weight=None, criterion='gini', max_depth=25,\n",
      "            max_features=None, max_leaf_nodes=None, min_samples_leaf=1,\n",
      "            min_samples_split=2, min_weight_fraction_leaf=0.0,\n",
      "            random_state=0, splitter='best')\n"
     ]
    }
   ],
   "source": [
    "params = { \"min_samples_split\":  [2, 5, 10, 20],\n",
    "           \"max_depth\" : [20, 25, 30,40]}\n",
    "\n",
    "tree_clf = DecisionTreeClassifier(random_state = 0)\n",
    "\n",
    "gs_clf = GridSearchCV(tree_clf, param_grid = params, scoring = \"f1\", cv = sss)\n",
    "gs_clf.fit(X, y)\n",
    "\n",
    "tree_clf = gs_clf.best_estimator_\n",
    "print \"Best found classifier:\", tree_clf"
   ]
  },
  {
   "cell_type": "code",
   "execution_count": 43,
   "metadata": {
    "collapsed": false
   },
   "outputs": [
    {
     "data": {
      "text/html": [
       "<div>\n",
       "<table border=\"1\" class=\"dataframe\">\n",
       "  <thead>\n",
       "    <tr style=\"text-align: right;\">\n",
       "      <th></th>\n",
       "      <th>Classifier</th>\n",
       "      <th>Precision</th>\n",
       "      <th>Recall</th>\n",
       "      <th>Accuracy</th>\n",
       "      <th>F1</th>\n",
       "      <th>F2</th>\n",
       "    </tr>\n",
       "  </thead>\n",
       "  <tbody>\n",
       "    <tr>\n",
       "      <th>0</th>\n",
       "      <td>LogisticRegression(C=40, class_weight=None, dual=False, fit_intercept=True,\\n          intercept_scaling=1, max_iter=100, multi_class='ovr',\\n          penalty='l2', random_state=None, solver='liblinear', tol=0.0001,\\n          verbose=0)</td>\n",
       "      <td>0.5942</td>\n",
       "      <td>0.2298</td>\n",
       "      <td>0.6987</td>\n",
       "      <td>0.3315</td>\n",
       "      <td>0.2620</td>\n",
       "    </tr>\n",
       "    <tr>\n",
       "      <th>1</th>\n",
       "      <td>GaussianNB()</td>\n",
       "      <td>0.5001</td>\n",
       "      <td>0.4575</td>\n",
       "      <td>0.6751</td>\n",
       "      <td>0.4779</td>\n",
       "      <td>0.4655</td>\n",
       "    </tr>\n",
       "    <tr>\n",
       "      <th>2</th>\n",
       "      <td>DecisionTreeClassifier(class_weight=None, criterion='gini', max_depth=20,\\n            max_features=None, max_leaf_nodes=None, min_samples_leaf=1,\\n            min_samples_split=2, min_weight_fraction_leaf=0.0,\\n            random_state=0, splitter='best')</td>\n",
       "      <td>0.3951</td>\n",
       "      <td>0.3872</td>\n",
       "      <td>0.6082</td>\n",
       "      <td>0.3911</td>\n",
       "      <td>0.3888</td>\n",
       "    </tr>\n",
       "    <tr>\n",
       "      <th>3</th>\n",
       "      <td>LogisticRegression(C=60, class_weight=None, dual=False, fit_intercept=True,\\n          intercept_scaling=1, max_iter=100, multi_class='ovr',\\n          penalty='l2', random_state=None, solver='liblinear', tol=0.0001,\\n          verbose=0)</td>\n",
       "      <td>0.5956</td>\n",
       "      <td>0.2295</td>\n",
       "      <td>0.6989</td>\n",
       "      <td>0.3314</td>\n",
       "      <td>0.2617</td>\n",
       "    </tr>\n",
       "    <tr>\n",
       "      <th>4</th>\n",
       "      <td>DecisionTreeClassifier(class_weight=None, criterion='gini', max_depth=25,\\n            max_features=None, max_leaf_nodes=None, min_samples_leaf=1,\\n            min_samples_split=2, min_weight_fraction_leaf=0.0,\\n            random_state=0, splitter='best')</td>\n",
       "      <td>0.3945</td>\n",
       "      <td>0.3862</td>\n",
       "      <td>0.6079</td>\n",
       "      <td>0.3903</td>\n",
       "      <td>0.3879</td>\n",
       "    </tr>\n",
       "  </tbody>\n",
       "</table>\n",
       "</div>"
      ],
      "text/plain": [
       "                                                                                                                                                                                                                                                         Classifier  \\\n",
       "0  LogisticRegression(C=40, class_weight=None, dual=False, fit_intercept=True,\\n          intercept_scaling=1, max_iter=100, multi_class='ovr',\\n          penalty='l2', random_state=None, solver='liblinear', tol=0.0001,\\n          verbose=0)                     \n",
       "1  GaussianNB()                                                                                                                                                                                                                                                       \n",
       "2  DecisionTreeClassifier(class_weight=None, criterion='gini', max_depth=20,\\n            max_features=None, max_leaf_nodes=None, min_samples_leaf=1,\\n            min_samples_split=2, min_weight_fraction_leaf=0.0,\\n            random_state=0, splitter='best')   \n",
       "3  LogisticRegression(C=60, class_weight=None, dual=False, fit_intercept=True,\\n          intercept_scaling=1, max_iter=100, multi_class='ovr',\\n          penalty='l2', random_state=None, solver='liblinear', tol=0.0001,\\n          verbose=0)                     \n",
       "4  DecisionTreeClassifier(class_weight=None, criterion='gini', max_depth=25,\\n            max_features=None, max_leaf_nodes=None, min_samples_leaf=1,\\n            min_samples_split=2, min_weight_fraction_leaf=0.0,\\n            random_state=0, splitter='best')   \n",
       "\n",
       "  Precision  Recall Accuracy      F1      F2  \n",
       "0  0.5942    0.2298  0.6987   0.3315  0.2620  \n",
       "1  0.5001    0.4575  0.6751   0.4779  0.4655  \n",
       "2  0.3951    0.3872  0.6082   0.3911  0.3888  \n",
       "3  0.5956    0.2295  0.6989   0.3314  0.2617  \n",
       "4  0.3945    0.3862  0.6079   0.3903  0.3879  "
      ]
     },
     "execution_count": 43,
     "metadata": {},
     "output_type": "execute_result"
    }
   ],
   "source": [
    "predict_score(tree_clf, X, y)"
   ]
  },
  {
   "cell_type": "markdown",
   "metadata": {},
   "source": [
    "### 4. Adaboost"
   ]
  },
  {
   "cell_type": "code",
   "execution_count": 44,
   "metadata": {
    "collapsed": false
   },
   "outputs": [
    {
     "name": "stdout",
     "output_type": "stream",
     "text": [
      "Best found classifier: AdaBoostClassifier(algorithm='SAMME.R', base_estimator=None, learning_rate=1,\n",
      "          n_estimators=400, random_state=0)\n",
      "time 197.871999979\n"
     ]
    }
   ],
   "source": [
    "# Ensemble method, Adaboost\n",
    "t1= time.time()\n",
    "params = { \"n_estimators\": [10, 50, 100, 200, 400],\n",
    "           \"learning_rate\": [0.1, 1, 5]}\n",
    "\n",
    "adaboost_clf = AdaBoostClassifier(random_state = 0)\n",
    "\n",
    "gs_clf = GridSearchCV(adaboost_clf, param_grid = params, scoring = \"f1\", cv = sss)\n",
    "gs_clf.fit(X, y)\n",
    "\n",
    "adaboost_clf = gs_clf.best_estimator_\n",
    "print \"Best found classifier:\", adaboost_clf\n",
    "t2= time.time()\n",
    "print \"time\", t2-t1"
   ]
  },
  {
   "cell_type": "code",
   "execution_count": 45,
   "metadata": {
    "collapsed": false
   },
   "outputs": [
    {
     "data": {
      "text/html": [
       "<div>\n",
       "<table border=\"1\" class=\"dataframe\">\n",
       "  <thead>\n",
       "    <tr style=\"text-align: right;\">\n",
       "      <th></th>\n",
       "      <th>Classifier</th>\n",
       "      <th>Precision</th>\n",
       "      <th>Recall</th>\n",
       "      <th>Accuracy</th>\n",
       "      <th>F1</th>\n",
       "      <th>F2</th>\n",
       "    </tr>\n",
       "  </thead>\n",
       "  <tbody>\n",
       "    <tr>\n",
       "      <th>0</th>\n",
       "      <td>LogisticRegression(C=40, class_weight=None, dual=False, fit_intercept=True,\\n          intercept_scaling=1, max_iter=100, multi_class='ovr',\\n          penalty='l2', random_state=None, solver='liblinear', tol=0.0001,\\n          verbose=0)</td>\n",
       "      <td>0.5942</td>\n",
       "      <td>0.2298</td>\n",
       "      <td>0.6987</td>\n",
       "      <td>0.3315</td>\n",
       "      <td>0.2620</td>\n",
       "    </tr>\n",
       "    <tr>\n",
       "      <th>1</th>\n",
       "      <td>GaussianNB()</td>\n",
       "      <td>0.5001</td>\n",
       "      <td>0.4575</td>\n",
       "      <td>0.6751</td>\n",
       "      <td>0.4779</td>\n",
       "      <td>0.4655</td>\n",
       "    </tr>\n",
       "    <tr>\n",
       "      <th>2</th>\n",
       "      <td>DecisionTreeClassifier(class_weight=None, criterion='gini', max_depth=20,\\n            max_features=None, max_leaf_nodes=None, min_samples_leaf=1,\\n            min_samples_split=2, min_weight_fraction_leaf=0.0,\\n            random_state=0, splitter='best')</td>\n",
       "      <td>0.3951</td>\n",
       "      <td>0.3872</td>\n",
       "      <td>0.6082</td>\n",
       "      <td>0.3911</td>\n",
       "      <td>0.3888</td>\n",
       "    </tr>\n",
       "    <tr>\n",
       "      <th>3</th>\n",
       "      <td>LogisticRegression(C=60, class_weight=None, dual=False, fit_intercept=True,\\n          intercept_scaling=1, max_iter=100, multi_class='ovr',\\n          penalty='l2', random_state=None, solver='liblinear', tol=0.0001,\\n          verbose=0)</td>\n",
       "      <td>0.5956</td>\n",
       "      <td>0.2295</td>\n",
       "      <td>0.6989</td>\n",
       "      <td>0.3314</td>\n",
       "      <td>0.2617</td>\n",
       "    </tr>\n",
       "    <tr>\n",
       "      <th>4</th>\n",
       "      <td>DecisionTreeClassifier(class_weight=None, criterion='gini', max_depth=25,\\n            max_features=None, max_leaf_nodes=None, min_samples_leaf=1,\\n            min_samples_split=2, min_weight_fraction_leaf=0.0,\\n            random_state=0, splitter='best')</td>\n",
       "      <td>0.3945</td>\n",
       "      <td>0.3862</td>\n",
       "      <td>0.6079</td>\n",
       "      <td>0.3903</td>\n",
       "      <td>0.3879</td>\n",
       "    </tr>\n",
       "    <tr>\n",
       "      <th>5</th>\n",
       "      <td>AdaBoostClassifier(algorithm='SAMME.R', base_estimator=None, learning_rate=1,\\n          n_estimators=400, random_state=0)</td>\n",
       "      <td>0.4814</td>\n",
       "      <td>0.3672</td>\n",
       "      <td>0.6658</td>\n",
       "      <td>0.4166</td>\n",
       "      <td>0.3855</td>\n",
       "    </tr>\n",
       "  </tbody>\n",
       "</table>\n",
       "</div>"
      ],
      "text/plain": [
       "                                                                                                                                                                                                                                                         Classifier  \\\n",
       "0  LogisticRegression(C=40, class_weight=None, dual=False, fit_intercept=True,\\n          intercept_scaling=1, max_iter=100, multi_class='ovr',\\n          penalty='l2', random_state=None, solver='liblinear', tol=0.0001,\\n          verbose=0)                     \n",
       "1  GaussianNB()                                                                                                                                                                                                                                                       \n",
       "2  DecisionTreeClassifier(class_weight=None, criterion='gini', max_depth=20,\\n            max_features=None, max_leaf_nodes=None, min_samples_leaf=1,\\n            min_samples_split=2, min_weight_fraction_leaf=0.0,\\n            random_state=0, splitter='best')   \n",
       "3  LogisticRegression(C=60, class_weight=None, dual=False, fit_intercept=True,\\n          intercept_scaling=1, max_iter=100, multi_class='ovr',\\n          penalty='l2', random_state=None, solver='liblinear', tol=0.0001,\\n          verbose=0)                     \n",
       "4  DecisionTreeClassifier(class_weight=None, criterion='gini', max_depth=25,\\n            max_features=None, max_leaf_nodes=None, min_samples_leaf=1,\\n            min_samples_split=2, min_weight_fraction_leaf=0.0,\\n            random_state=0, splitter='best')   \n",
       "5  AdaBoostClassifier(algorithm='SAMME.R', base_estimator=None, learning_rate=1,\\n          n_estimators=400, random_state=0)                                                                                                                                         \n",
       "\n",
       "  Precision  Recall Accuracy      F1      F2  \n",
       "0  0.5942    0.2298  0.6987   0.3315  0.2620  \n",
       "1  0.5001    0.4575  0.6751   0.4779  0.4655  \n",
       "2  0.3951    0.3872  0.6082   0.3911  0.3888  \n",
       "3  0.5956    0.2295  0.6989   0.3314  0.2617  \n",
       "4  0.3945    0.3862  0.6079   0.3903  0.3879  \n",
       "5  0.4814    0.3672  0.6658   0.4166  0.3855  "
      ]
     },
     "execution_count": 45,
     "metadata": {},
     "output_type": "execute_result"
    }
   ],
   "source": [
    "predict_score(adaboost_clf, X, y)"
   ]
  },
  {
   "cell_type": "markdown",
   "metadata": {},
   "source": [
    "### 5. Random Forest"
   ]
  },
  {
   "cell_type": "code",
   "execution_count": 46,
   "metadata": {
    "collapsed": false
   },
   "outputs": [
    {
     "name": "stdout",
     "output_type": "stream",
     "text": [
      "Best found classifier: RandomForestClassifier(bootstrap=True, class_weight=None, criterion='gini',\n",
      "            max_depth=None, max_features='auto', max_leaf_nodes=None,\n",
      "            min_samples_leaf=1, min_samples_split=5,\n",
      "            min_weight_fraction_leaf=0.0, n_estimators=50, n_jobs=1,\n",
      "            oob_score=False, random_state=0, verbose=0, warm_start=False)\n",
      "time 123.995000124\n"
     ]
    }
   ],
   "source": [
    "#  Random forest: fits a number of decision tree classifiers on various sub-samples of the dataset and \n",
    "# use averaging to improve the predictive accuracy and control over-fitting\n",
    "t1= time.time()\n",
    "params = {\"n_estimators\": [10, 25, 50, 75, 100],\n",
    "          \"min_samples_split\": [ 2, 5, 7, 10, 20]}\n",
    "\n",
    "rf_clf = RandomForestClassifier(random_state = 0)\n",
    "\n",
    "gs_clf = GridSearchCV(rf_clf, param_grid = params, scoring = \"f1\", cv =sss)\n",
    "gs_clf.fit(X, y)\n",
    "\n",
    "rf_clf = gs_clf.best_estimator_\n",
    "print \"Best found classifier:\", rf_clf\n",
    "t2= time.time()\n",
    "print \"time\", t2-t1"
   ]
  },
  {
   "cell_type": "code",
   "execution_count": 47,
   "metadata": {
    "collapsed": false
   },
   "outputs": [
    {
     "data": {
      "text/html": [
       "<div>\n",
       "<table border=\"1\" class=\"dataframe\">\n",
       "  <thead>\n",
       "    <tr style=\"text-align: right;\">\n",
       "      <th></th>\n",
       "      <th>Classifier</th>\n",
       "      <th>Precision</th>\n",
       "      <th>Recall</th>\n",
       "      <th>Accuracy</th>\n",
       "      <th>F1</th>\n",
       "      <th>F2</th>\n",
       "    </tr>\n",
       "  </thead>\n",
       "  <tbody>\n",
       "    <tr>\n",
       "      <th>0</th>\n",
       "      <td>LogisticRegression(C=40, class_weight=None, dual=False, fit_intercept=True,\\n          intercept_scaling=1, max_iter=100, multi_class='ovr',\\n          penalty='l2', random_state=None, solver='liblinear', tol=0.0001,\\n          verbose=0)</td>\n",
       "      <td>0.5942</td>\n",
       "      <td>0.2298</td>\n",
       "      <td>0.6987</td>\n",
       "      <td>0.3315</td>\n",
       "      <td>0.2620</td>\n",
       "    </tr>\n",
       "    <tr>\n",
       "      <th>1</th>\n",
       "      <td>GaussianNB()</td>\n",
       "      <td>0.5001</td>\n",
       "      <td>0.4575</td>\n",
       "      <td>0.6751</td>\n",
       "      <td>0.4779</td>\n",
       "      <td>0.4655</td>\n",
       "    </tr>\n",
       "    <tr>\n",
       "      <th>2</th>\n",
       "      <td>DecisionTreeClassifier(class_weight=None, criterion='gini', max_depth=20,\\n            max_features=None, max_leaf_nodes=None, min_samples_leaf=1,\\n            min_samples_split=2, min_weight_fraction_leaf=0.0,\\n            random_state=0, splitter='best')</td>\n",
       "      <td>0.3951</td>\n",
       "      <td>0.3872</td>\n",
       "      <td>0.6082</td>\n",
       "      <td>0.3911</td>\n",
       "      <td>0.3888</td>\n",
       "    </tr>\n",
       "    <tr>\n",
       "      <th>3</th>\n",
       "      <td>LogisticRegression(C=60, class_weight=None, dual=False, fit_intercept=True,\\n          intercept_scaling=1, max_iter=100, multi_class='ovr',\\n          penalty='l2', random_state=None, solver='liblinear', tol=0.0001,\\n          verbose=0)</td>\n",
       "      <td>0.5956</td>\n",
       "      <td>0.2295</td>\n",
       "      <td>0.6989</td>\n",
       "      <td>0.3314</td>\n",
       "      <td>0.2617</td>\n",
       "    </tr>\n",
       "    <tr>\n",
       "      <th>4</th>\n",
       "      <td>DecisionTreeClassifier(class_weight=None, criterion='gini', max_depth=25,\\n            max_features=None, max_leaf_nodes=None, min_samples_leaf=1,\\n            min_samples_split=2, min_weight_fraction_leaf=0.0,\\n            random_state=0, splitter='best')</td>\n",
       "      <td>0.3945</td>\n",
       "      <td>0.3862</td>\n",
       "      <td>0.6079</td>\n",
       "      <td>0.3903</td>\n",
       "      <td>0.3879</td>\n",
       "    </tr>\n",
       "    <tr>\n",
       "      <th>5</th>\n",
       "      <td>AdaBoostClassifier(algorithm='SAMME.R', base_estimator=None, learning_rate=1,\\n          n_estimators=400, random_state=0)</td>\n",
       "      <td>0.4814</td>\n",
       "      <td>0.3672</td>\n",
       "      <td>0.6658</td>\n",
       "      <td>0.4166</td>\n",
       "      <td>0.3855</td>\n",
       "    </tr>\n",
       "    <tr>\n",
       "      <th>6</th>\n",
       "      <td>RandomForestClassifier(bootstrap=True, class_weight=None, criterion='gini',\\n            max_depth=None, max_features='auto', max_leaf_nodes=None,\\n            min_samples_leaf=1, min_samples_split=5,\\n            min_weight_fraction_leaf=0.0, n_estimators=50, n_jobs=1,\\n            oob_score=False, random_state=0, verbose=0, warm_start=False)</td>\n",
       "      <td>0.4946</td>\n",
       "      <td>0.3145</td>\n",
       "      <td>0.6728</td>\n",
       "      <td>0.3845</td>\n",
       "      <td>0.3392</td>\n",
       "    </tr>\n",
       "  </tbody>\n",
       "</table>\n",
       "</div>"
      ],
      "text/plain": [
       "                                                                                                                                                                                                                                                                                                                                                  Classifier  \\\n",
       "0  LogisticRegression(C=40, class_weight=None, dual=False, fit_intercept=True,\\n          intercept_scaling=1, max_iter=100, multi_class='ovr',\\n          penalty='l2', random_state=None, solver='liblinear', tol=0.0001,\\n          verbose=0)                                                                                                              \n",
       "1  GaussianNB()                                                                                                                                                                                                                                                                                                                                                \n",
       "2  DecisionTreeClassifier(class_weight=None, criterion='gini', max_depth=20,\\n            max_features=None, max_leaf_nodes=None, min_samples_leaf=1,\\n            min_samples_split=2, min_weight_fraction_leaf=0.0,\\n            random_state=0, splitter='best')                                                                                            \n",
       "3  LogisticRegression(C=60, class_weight=None, dual=False, fit_intercept=True,\\n          intercept_scaling=1, max_iter=100, multi_class='ovr',\\n          penalty='l2', random_state=None, solver='liblinear', tol=0.0001,\\n          verbose=0)                                                                                                              \n",
       "4  DecisionTreeClassifier(class_weight=None, criterion='gini', max_depth=25,\\n            max_features=None, max_leaf_nodes=None, min_samples_leaf=1,\\n            min_samples_split=2, min_weight_fraction_leaf=0.0,\\n            random_state=0, splitter='best')                                                                                            \n",
       "5  AdaBoostClassifier(algorithm='SAMME.R', base_estimator=None, learning_rate=1,\\n          n_estimators=400, random_state=0)                                                                                                                                                                                                                                  \n",
       "6  RandomForestClassifier(bootstrap=True, class_weight=None, criterion='gini',\\n            max_depth=None, max_features='auto', max_leaf_nodes=None,\\n            min_samples_leaf=1, min_samples_split=5,\\n            min_weight_fraction_leaf=0.0, n_estimators=50, n_jobs=1,\\n            oob_score=False, random_state=0, verbose=0, warm_start=False)   \n",
       "\n",
       "  Precision  Recall Accuracy      F1      F2  \n",
       "0  0.5942    0.2298  0.6987   0.3315  0.2620  \n",
       "1  0.5001    0.4575  0.6751   0.4779  0.4655  \n",
       "2  0.3951    0.3872  0.6082   0.3911  0.3888  \n",
       "3  0.5956    0.2295  0.6989   0.3314  0.2617  \n",
       "4  0.3945    0.3862  0.6079   0.3903  0.3879  \n",
       "5  0.4814    0.3672  0.6658   0.4166  0.3855  \n",
       "6  0.4946    0.3145  0.6728   0.3845  0.3392  "
      ]
     },
     "execution_count": 47,
     "metadata": {},
     "output_type": "execute_result"
    }
   ],
   "source": [
    "predict_score(rf_clf, X, y)"
   ]
  },
  {
   "cell_type": "markdown",
   "metadata": {},
   "source": [
    "### 6. K Nearest Neighbors"
   ]
  },
  {
   "cell_type": "code",
   "execution_count": 48,
   "metadata": {
    "collapsed": false
   },
   "outputs": [
    {
     "name": "stdout",
     "output_type": "stream",
     "text": [
      "Best found classifier: KNeighborsClassifier(algorithm='auto', leaf_size=30, metric='minkowski',\n",
      "           metric_params=None, n_neighbors=5, p=2, weights='distance')\n",
      "time 3.6130001545\n"
     ]
    }
   ],
   "source": [
    "t1= time.time()\n",
    "params = {\"n_neighbors\": [3, 5, 10, 15, 20],\n",
    "          \"weights\": [\"uniform\", \"distance\"]}\n",
    "\n",
    "KNN_clf = KNeighborsClassifier()\n",
    "\n",
    "gs_clf = GridSearchCV(KNN_clf, param_grid = params, scoring = \"f1\", cv =sss) \n",
    "\n",
    "gs_clf.fit(X, y)\n",
    "\n",
    "KNN_clf = gs_clf.best_estimator_\n",
    "print \"Best found classifier:\", KNN_clf\n",
    "t2= time.time()\n",
    "print \"time\", t2-t1"
   ]
  },
  {
   "cell_type": "code",
   "execution_count": 49,
   "metadata": {
    "collapsed": false
   },
   "outputs": [
    {
     "data": {
      "text/html": [
       "<div>\n",
       "<table border=\"1\" class=\"dataframe\">\n",
       "  <thead>\n",
       "    <tr style=\"text-align: right;\">\n",
       "      <th></th>\n",
       "      <th>Classifier</th>\n",
       "      <th>Precision</th>\n",
       "      <th>Recall</th>\n",
       "      <th>Accuracy</th>\n",
       "      <th>F1</th>\n",
       "      <th>F2</th>\n",
       "    </tr>\n",
       "  </thead>\n",
       "  <tbody>\n",
       "    <tr>\n",
       "      <th>0</th>\n",
       "      <td>LogisticRegression(C=40, class_weight=None, dual=False, fit_intercept=True,\\n          intercept_scaling=1, max_iter=100, multi_class='ovr',\\n          penalty='l2', random_state=None, solver='liblinear', tol=0.0001,\\n          verbose=0)</td>\n",
       "      <td>0.5942</td>\n",
       "      <td>0.2298</td>\n",
       "      <td>0.6987</td>\n",
       "      <td>0.3315</td>\n",
       "      <td>0.2620</td>\n",
       "    </tr>\n",
       "    <tr>\n",
       "      <th>1</th>\n",
       "      <td>GaussianNB()</td>\n",
       "      <td>0.5001</td>\n",
       "      <td>0.4575</td>\n",
       "      <td>0.6751</td>\n",
       "      <td>0.4779</td>\n",
       "      <td>0.4655</td>\n",
       "    </tr>\n",
       "    <tr>\n",
       "      <th>2</th>\n",
       "      <td>DecisionTreeClassifier(class_weight=None, criterion='gini', max_depth=20,\\n            max_features=None, max_leaf_nodes=None, min_samples_leaf=1,\\n            min_samples_split=2, min_weight_fraction_leaf=0.0,\\n            random_state=0, splitter='best')</td>\n",
       "      <td>0.3951</td>\n",
       "      <td>0.3872</td>\n",
       "      <td>0.6082</td>\n",
       "      <td>0.3911</td>\n",
       "      <td>0.3888</td>\n",
       "    </tr>\n",
       "    <tr>\n",
       "      <th>3</th>\n",
       "      <td>LogisticRegression(C=60, class_weight=None, dual=False, fit_intercept=True,\\n          intercept_scaling=1, max_iter=100, multi_class='ovr',\\n          penalty='l2', random_state=None, solver='liblinear', tol=0.0001,\\n          verbose=0)</td>\n",
       "      <td>0.5956</td>\n",
       "      <td>0.2295</td>\n",
       "      <td>0.6989</td>\n",
       "      <td>0.3314</td>\n",
       "      <td>0.2617</td>\n",
       "    </tr>\n",
       "    <tr>\n",
       "      <th>4</th>\n",
       "      <td>DecisionTreeClassifier(class_weight=None, criterion='gini', max_depth=25,\\n            max_features=None, max_leaf_nodes=None, min_samples_leaf=1,\\n            min_samples_split=2, min_weight_fraction_leaf=0.0,\\n            random_state=0, splitter='best')</td>\n",
       "      <td>0.3945</td>\n",
       "      <td>0.3862</td>\n",
       "      <td>0.6079</td>\n",
       "      <td>0.3903</td>\n",
       "      <td>0.3879</td>\n",
       "    </tr>\n",
       "    <tr>\n",
       "      <th>5</th>\n",
       "      <td>AdaBoostClassifier(algorithm='SAMME.R', base_estimator=None, learning_rate=1,\\n          n_estimators=400, random_state=0)</td>\n",
       "      <td>0.4814</td>\n",
       "      <td>0.3672</td>\n",
       "      <td>0.6658</td>\n",
       "      <td>0.4166</td>\n",
       "      <td>0.3855</td>\n",
       "    </tr>\n",
       "    <tr>\n",
       "      <th>6</th>\n",
       "      <td>RandomForestClassifier(bootstrap=True, class_weight=None, criterion='gini',\\n            max_depth=None, max_features='auto', max_leaf_nodes=None,\\n            min_samples_leaf=1, min_samples_split=5,\\n            min_weight_fraction_leaf=0.0, n_estimators=50, n_jobs=1,\\n            oob_score=False, random_state=0, verbose=0, warm_start=False)</td>\n",
       "      <td>0.4946</td>\n",
       "      <td>0.3145</td>\n",
       "      <td>0.6728</td>\n",
       "      <td>0.3845</td>\n",
       "      <td>0.3392</td>\n",
       "    </tr>\n",
       "    <tr>\n",
       "      <th>7</th>\n",
       "      <td>KNeighborsClassifier(algorithm='auto', leaf_size=30, metric='minkowski',\\n           metric_params=None, n_neighbors=5, p=2, weights='distance')</td>\n",
       "      <td>0.4782</td>\n",
       "      <td>0.3508</td>\n",
       "      <td>0.6646</td>\n",
       "      <td>0.4047</td>\n",
       "      <td>0.3705</td>\n",
       "    </tr>\n",
       "  </tbody>\n",
       "</table>\n",
       "</div>"
      ],
      "text/plain": [
       "                                                                                                                                                                                                                                                                                                                                                  Classifier  \\\n",
       "0  LogisticRegression(C=40, class_weight=None, dual=False, fit_intercept=True,\\n          intercept_scaling=1, max_iter=100, multi_class='ovr',\\n          penalty='l2', random_state=None, solver='liblinear', tol=0.0001,\\n          verbose=0)                                                                                                              \n",
       "1  GaussianNB()                                                                                                                                                                                                                                                                                                                                                \n",
       "2  DecisionTreeClassifier(class_weight=None, criterion='gini', max_depth=20,\\n            max_features=None, max_leaf_nodes=None, min_samples_leaf=1,\\n            min_samples_split=2, min_weight_fraction_leaf=0.0,\\n            random_state=0, splitter='best')                                                                                            \n",
       "3  LogisticRegression(C=60, class_weight=None, dual=False, fit_intercept=True,\\n          intercept_scaling=1, max_iter=100, multi_class='ovr',\\n          penalty='l2', random_state=None, solver='liblinear', tol=0.0001,\\n          verbose=0)                                                                                                              \n",
       "4  DecisionTreeClassifier(class_weight=None, criterion='gini', max_depth=25,\\n            max_features=None, max_leaf_nodes=None, min_samples_leaf=1,\\n            min_samples_split=2, min_weight_fraction_leaf=0.0,\\n            random_state=0, splitter='best')                                                                                            \n",
       "5  AdaBoostClassifier(algorithm='SAMME.R', base_estimator=None, learning_rate=1,\\n          n_estimators=400, random_state=0)                                                                                                                                                                                                                                  \n",
       "6  RandomForestClassifier(bootstrap=True, class_weight=None, criterion='gini',\\n            max_depth=None, max_features='auto', max_leaf_nodes=None,\\n            min_samples_leaf=1, min_samples_split=5,\\n            min_weight_fraction_leaf=0.0, n_estimators=50, n_jobs=1,\\n            oob_score=False, random_state=0, verbose=0, warm_start=False)   \n",
       "7  KNeighborsClassifier(algorithm='auto', leaf_size=30, metric='minkowski',\\n           metric_params=None, n_neighbors=5, p=2, weights='distance')                                                                                                                                                                                                            \n",
       "\n",
       "  Precision  Recall Accuracy      F1      F2  \n",
       "0  0.5942    0.2298  0.6987   0.3315  0.2620  \n",
       "1  0.5001    0.4575  0.6751   0.4779  0.4655  \n",
       "2  0.3951    0.3872  0.6082   0.3911  0.3888  \n",
       "3  0.5956    0.2295  0.6989   0.3314  0.2617  \n",
       "4  0.3945    0.3862  0.6079   0.3903  0.3879  \n",
       "5  0.4814    0.3672  0.6658   0.4166  0.3855  \n",
       "6  0.4946    0.3145  0.6728   0.3845  0.3392  \n",
       "7  0.4782    0.3508  0.6646   0.4047  0.3705  "
      ]
     },
     "execution_count": 49,
     "metadata": {},
     "output_type": "execute_result"
    }
   ],
   "source": [
    "predict_score(KNN_clf, X, y)"
   ]
  },
  {
   "cell_type": "markdown",
   "metadata": {},
   "source": [
    "## Summary\n",
    "### In this practice, I tried a few different classifiers in sklearn and found that K Nearest Neighbors (k=10) gives the best prediction on this dataset. "
   ]
  },
  {
   "cell_type": "code",
   "execution_count": 50,
   "metadata": {
    "collapsed": false
   },
   "outputs": [],
   "source": [
    "#!ipython nbconvert --to python Prediction_Student_Admission.ipynb"
   ]
  }
 ],
 "metadata": {
  "kernelspec": {
   "display_name": "Python 2",
   "language": "python",
   "name": "python2"
  },
  "language_info": {
   "codemirror_mode": {
    "name": "ipython",
    "version": 2
   },
   "file_extension": ".py",
   "mimetype": "text/x-python",
   "name": "python",
   "nbconvert_exporter": "python",
   "pygments_lexer": "ipython2",
   "version": "2.7.12"
  }
 },
 "nbformat": 4,
 "nbformat_minor": 0
}
